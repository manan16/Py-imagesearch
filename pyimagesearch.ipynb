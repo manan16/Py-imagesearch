{
 "cells": [
  {
   "cell_type": "code",
   "execution_count": 8,
   "metadata": {},
   "outputs": [],
   "source": [
    "from skimage.measure import compare_ssim\n",
    "import argparse\n",
    "import imutils\n",
    "import cv2\n",
    "import matplotlib.pyplot as plt\n",
    "import numpy"
   ]
  },
  {
   "cell_type": "code",
   "execution_count": 9,
   "metadata": {},
   "outputs": [],
   "source": [
    "imageA = cv2.imread(\"path of image A\")\n",
    "imageB = cv2.imread(\"path of image B\")"
   ]
  },
  {
   "cell_type": "code",
   "execution_count": 10,
   "metadata": {},
   "outputs": [],
   "source": [
    "grayA = cv2.cvtColor(imageA, cv2.COLOR_BGR2GRAY)\n",
    "grayB = cv2.cvtColor(imageB, cv2.COLOR_BGR2GRAY)"
   ]
  },
  {
   "cell_type": "code",
   "execution_count": 11,
   "metadata": {},
   "outputs": [
    {
     "name": "stdout",
     "output_type": "stream",
     "text": [
      "SSIM: 0.9958127538958876\n"
     ]
    }
   ],
   "source": [
    "(score, diff) = compare_ssim(grayA, grayB, full=True)\n",
    "diff = (diff * 255).astype(\"uint8\")\n",
    "print(\"SSIM: {}\".format(score))"
   ]
  },
  {
   "cell_type": "code",
   "execution_count": 12,
   "metadata": {},
   "outputs": [],
   "source": [
    "thresh = cv2.threshold(diff, 0, 255,\n",
    "\tcv2.THRESH_BINARY_INV | cv2.THRESH_OTSU)[1]\n",
    "cnts = cv2.findContours(thresh.copy(), cv2.RETR_EXTERNAL,\n",
    "\tcv2.CHAIN_APPROX_SIMPLE)\n",
    "cnts = imutils.grab_contours(cnts)"
   ]
  },
  {
   "cell_type": "code",
   "execution_count": 13,
   "metadata": {},
   "outputs": [],
   "source": [
    "for c in cnts:\n",
    "\t(x, y, w, h) = cv2.boundingRect(c)\n",
    "\tcv2.rectangle(imageA, (x, y), (x + w, y + h), (0, 0, 255), 2)\n",
    "\tcv2.rectangle(imageB, (x, y), (x + w, y + h), (0, 0, 255), 2)\n"
   ]
  },
  {
   "cell_type": "code",
   "execution_count": null,
   "metadata": {},
   "outputs": [],
   "source": [
    "cv2.imshow(\"Original\", imageA)\n",
    "cv2.imshow(\"Modified\", imageB)\n",
    "cv2.imshow(\"Diff\", diff)\n",
    "cv2.imshow(\"Thresh\", thresh)\n",
    "cv2.waitKey(0)"
   ]
  },
  {
   "cell_type": "code",
   "execution_count": null,
   "metadata": {},
   "outputs": [],
   "source": []
  }
 ],
 "metadata": {
  "kernelspec": {
   "display_name": "Python 3",
   "language": "python",
   "name": "python3"
  },
  "language_info": {
   "codemirror_mode": {
    "name": "ipython",
    "version": 3
   },
   "file_extension": ".py",
   "mimetype": "text/x-python",
   "name": "python",
   "nbconvert_exporter": "python",
   "pygments_lexer": "ipython3",
   "version": "3.7.3"
  }
 },
 "nbformat": 4,
 "nbformat_minor": 2
}
